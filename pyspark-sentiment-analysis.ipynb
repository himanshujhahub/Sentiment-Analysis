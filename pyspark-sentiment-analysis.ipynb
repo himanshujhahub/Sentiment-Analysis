{
 "cells": [
  {
   "cell_type": "code",
   "execution_count": 1,
   "metadata": {
    "_cell_guid": "b1076dfc-b9ad-4769-8c92-a6c4dae69d19",
    "_uuid": "8f2839f25d086af736a60e9eeb907d3b93b6e0e5",
    "execution": {
     "iopub.execute_input": "2021-01-15T23:49:27.874653Z",
     "iopub.status.busy": "2021-01-15T23:49:27.873890Z",
     "iopub.status.idle": "2021-01-15T23:49:27.885098Z",
     "shell.execute_reply": "2021-01-15T23:49:27.885568Z"
    },
    "papermill": {
     "duration": 0.029663,
     "end_time": "2021-01-15T23:49:27.885749",
     "exception": false,
     "start_time": "2021-01-15T23:49:27.856086",
     "status": "completed"
    },
    "tags": []
   },
   "outputs": [],
   "source": [
    "\n",
    "import numpy as np\n",
    "import pandas as pd\n"
   ]
  },
  {
   "cell_type": "code",
   "execution_count": 3,
   "metadata": {
    "execution": {
     "iopub.execute_input": "2021-01-15T23:50:02.671876Z",
     "iopub.status.busy": "2021-01-15T23:50:02.671255Z",
     "iopub.status.idle": "2021-01-15T23:50:03.035625Z",
     "shell.execute_reply": "2021-01-15T23:50:03.034912Z"
    },
    "papermill": {
     "duration": 0.466024,
     "end_time": "2021-01-15T23:50:03.035759",
     "exception": false,
     "start_time": "2021-01-15T23:50:02.569735",
     "status": "completed"
    },
    "tags": []
   },
   "outputs": [],
   "source": [
    "from pyspark.sql import SparkSession\n",
    "from pyspark.sql.types import *\n",
    "from pyspark.sql.functions import *\n",
    "from pyspark.ml.classification import LogisticRegression\n",
    "from pyspark.ml.feature import HashingTF, Tokenizer, StopWordsRemover"
   ]
  },
  {
   "cell_type": "code",
   "execution_count": 4,
   "metadata": {
    "execution": {
     "iopub.execute_input": "2021-01-15T23:50:03.231932Z",
     "iopub.status.busy": "2021-01-15T23:50:03.231126Z",
     "iopub.status.idle": "2021-01-15T23:50:09.663554Z",
     "shell.execute_reply": "2021-01-15T23:50:09.662585Z"
    },
    "papermill": {
     "duration": 6.533863,
     "end_time": "2021-01-15T23:50:09.663751",
     "exception": false,
     "start_time": "2021-01-15T23:50:03.129888",
     "status": "completed"
    },
    "tags": []
   },
   "outputs": [],
   "source": [
    "appName=\"Sentimen Analysis Spark\"\n",
    "spark = SparkSession.builder\\\n",
    "        .master(\"local\")\\\n",
    "        .appName(\"Colab\")\\\n",
    "        .config('spark.ui.port', '4050')\\\n",
    "        .getOrCreate()"
   ]
  },
  {
   "cell_type": "code",
   "execution_count": 5,
   "metadata": {
    "execution": {
     "iopub.execute_input": "2021-01-15T23:50:09.872263Z",
     "iopub.status.busy": "2021-01-15T23:50:09.871576Z",
     "iopub.status.idle": "2021-01-15T23:50:15.725301Z",
     "shell.execute_reply": "2021-01-15T23:50:15.723824Z"
    },
    "papermill": {
     "duration": 5.95858,
     "end_time": "2021-01-15T23:50:15.725496",
     "exception": false,
     "start_time": "2021-01-15T23:50:09.766916",
     "status": "completed"
    },
    "tags": []
   },
   "outputs": [
    {
     "name": "stdout",
     "output_type": "stream",
     "text": [
      "+------+---------+---------------+---------------------------------+\n",
      "|ItemID|Sentiment|SentimentSource|SentimentText                    |\n",
      "+------+---------+---------------+---------------------------------+\n",
      "|1038  |1        |Sentiment140   |that film is fantastic #brilliant|\n",
      "|1804  |1        |Sentiment140   |this music is really bad #myband |\n",
      "|1693  |0        |Sentiment140   |winter is terrible #thumbs-down  |\n",
      "+------+---------+---------------+---------------------------------+\n",
      "only showing top 3 rows\n",
      "\n"
     ]
    }
   ],
   "source": [
    "tweet_csv=spark.read.csv(\"tweets.csv\", inferSchema=True, header=True)\n",
    "tweet_csv.show(truncate=False, n=3)"
   ]
  },
  {
   "cell_type": "code",
   "execution_count": 6,
   "metadata": {
    "execution": {
     "iopub.execute_input": "2021-01-15T23:50:15.936121Z",
     "iopub.status.busy": "2021-01-15T23:50:15.935381Z",
     "iopub.status.idle": "2021-01-15T23:50:16.492183Z",
     "shell.execute_reply": "2021-01-15T23:50:16.491397Z"
    },
    "papermill": {
     "duration": 0.658058,
     "end_time": "2021-01-15T23:50:16.492374",
     "exception": false,
     "start_time": "2021-01-15T23:50:15.834316",
     "status": "completed"
    },
    "tags": []
   },
   "outputs": [
    {
     "name": "stdout",
     "output_type": "stream",
     "text": [
      "+---------------------------------+-----+\n",
      "|SentimentText                    |label|\n",
      "+---------------------------------+-----+\n",
      "|that film is fantastic #brilliant|1    |\n",
      "|this music is really bad #myband |1    |\n",
      "|winter is terrible #thumbs-down  |0    |\n",
      "|this game is awful #nightmare    |0    |\n",
      "|I love jam #loveit               |1    |\n",
      "+---------------------------------+-----+\n",
      "only showing top 5 rows\n",
      "\n"
     ]
    }
   ],
   "source": [
    "data=tweet_csv.select(\n",
    "    \"SentimentText\",col(\"Sentiment\").cast(\"Int\").alias(\"label\"))\n",
    "data.show(truncate=False, n=5)"
   ]
  },
  {
   "cell_type": "code",
   "execution_count": 7,
   "metadata": {
    "execution": {
     "iopub.execute_input": "2021-01-15T23:50:16.699914Z",
     "iopub.status.busy": "2021-01-15T23:50:16.699034Z",
     "iopub.status.idle": "2021-01-15T23:50:17.799441Z",
     "shell.execute_reply": "2021-01-15T23:50:17.798509Z"
    },
    "papermill": {
     "duration": 1.209212,
     "end_time": "2021-01-15T23:50:17.799601",
     "exception": false,
     "start_time": "2021-01-15T23:50:16.590389",
     "status": "completed"
    },
    "tags": []
   },
   "outputs": [
    {
     "name": "stdout",
     "output_type": "stream",
     "text": [
      "Total train : 1349\n",
      "Total test : 583\n"
     ]
    }
   ],
   "source": [
    "#Spliting training and Testing\n",
    "split_data=data.randomSplit([0.7,0.3])\n",
    "train=split_data[0]\n",
    "\n",
    "#label in test renamed to true label\n",
    "test=split_data[1].withColumnRenamed(\"label\",\"true_label\")\n",
    "train_rows=train.count()\n",
    "test_rows=test.count()\n",
    "\n",
    "print(\"Total train :\",train_rows)\n",
    "print(\"Total test :\", test_rows)"
   ]
  },
  {
   "cell_type": "code",
   "execution_count": 8,
   "metadata": {
    "execution": {
     "iopub.execute_input": "2021-01-15T23:50:18.074253Z",
     "iopub.status.busy": "2021-01-15T23:50:18.073456Z",
     "iopub.status.idle": "2021-01-15T23:50:18.584072Z",
     "shell.execute_reply": "2021-01-15T23:50:18.583291Z"
    },
    "papermill": {
     "duration": 0.626149,
     "end_time": "2021-01-15T23:50:18.584243",
     "exception": false,
     "start_time": "2021-01-15T23:50:17.958094",
     "status": "completed"
    },
    "tags": []
   },
   "outputs": [
    {
     "name": "stdout",
     "output_type": "stream",
     "text": [
      "+-------------------------+-----+------------------------------+\n",
      "|SentimentText            |label|SentimentWords                |\n",
      "+-------------------------+-----+------------------------------+\n",
      "|I adore cheese #bestever |1    |[i, adore, cheese, #bestever] |\n",
      "|I adore cheese #brilliant|1    |[i, adore, cheese, #brilliant]|\n",
      "|I adore cheese #favorite |1    |[i, adore, cheese, #favorite] |\n",
      "|I adore cheese #loveit   |1    |[i, adore, cheese, #loveit]   |\n",
      "|I adore cheese #thumbs-up|1    |[i, adore, cheese, #thumbs-up]|\n",
      "+-------------------------+-----+------------------------------+\n",
      "only showing top 5 rows\n",
      "\n"
     ]
    }
   ],
   "source": [
    "#Prepare data for training\n",
    "tokenizer = Tokenizer(inputCol=\"SentimentText\", outputCol=\"SentimentWords\")\n",
    "tokenizedTrain = tokenizer.transform(train)\n",
    "tokenizedTrain.show(truncate=False, n=5)"
   ]
  },
  {
   "cell_type": "code",
   "execution_count": 9,
   "metadata": {
    "execution": {
     "iopub.execute_input": "2021-01-15T23:50:18.785431Z",
     "iopub.status.busy": "2021-01-15T23:50:18.784415Z",
     "iopub.status.idle": "2021-01-15T23:50:19.409034Z",
     "shell.execute_reply": "2021-01-15T23:50:19.407665Z"
    },
    "papermill": {
     "duration": 0.728956,
     "end_time": "2021-01-15T23:50:19.409261",
     "exception": false,
     "start_time": "2021-01-15T23:50:18.680305",
     "status": "completed"
    },
    "tags": []
   },
   "outputs": [
    {
     "name": "stdout",
     "output_type": "stream",
     "text": [
      "+-------------------------+-----+------------------------------+---------------------------+\n",
      "|SentimentText            |label|SentimentWords                |MeaningfulWords            |\n",
      "+-------------------------+-----+------------------------------+---------------------------+\n",
      "|I adore cheese #bestever |1    |[i, adore, cheese, #bestever] |[adore, cheese, #bestever] |\n",
      "|I adore cheese #brilliant|1    |[i, adore, cheese, #brilliant]|[adore, cheese, #brilliant]|\n",
      "|I adore cheese #favorite |1    |[i, adore, cheese, #favorite] |[adore, cheese, #favorite] |\n",
      "|I adore cheese #loveit   |1    |[i, adore, cheese, #loveit]   |[adore, cheese, #loveit]   |\n",
      "|I adore cheese #thumbs-up|1    |[i, adore, cheese, #thumbs-up]|[adore, cheese, #thumbs-up]|\n",
      "+-------------------------+-----+------------------------------+---------------------------+\n",
      "only showing top 5 rows\n",
      "\n"
     ]
    }
   ],
   "source": [
    "swr = StopWordsRemover(inputCol=tokenizer.getOutputCol(), \n",
    "                       outputCol=\"MeaningfulWords\")\n",
    "SwRemovedTrain = swr.transform(tokenizedTrain)\n",
    "SwRemovedTrain.show(truncate=False, n=5)"
   ]
  },
  {
   "cell_type": "code",
   "execution_count": 10,
   "metadata": {
    "execution": {
     "iopub.execute_input": "2021-01-15T23:50:19.708008Z",
     "iopub.status.busy": "2021-01-15T23:50:19.707340Z",
     "iopub.status.idle": "2021-01-15T23:50:20.200039Z",
     "shell.execute_reply": "2021-01-15T23:50:20.199083Z"
    },
    "papermill": {
     "duration": 0.609471,
     "end_time": "2021-01-15T23:50:20.200253",
     "exception": false,
     "start_time": "2021-01-15T23:50:19.590782",
     "status": "completed"
    },
    "tags": []
   },
   "outputs": [
    {
     "name": "stdout",
     "output_type": "stream",
     "text": [
      "+-----+---------------------------+-------------------------------------------+\n",
      "|label|MeaningfulWords            |features                                   |\n",
      "+-----+---------------------------+-------------------------------------------+\n",
      "|1    |[adore, cheese, #bestever] |(262144,[1689,91011,100089],[1.0,1.0,1.0]) |\n",
      "|1    |[adore, cheese, #brilliant]|(262144,[1689,45361,100089],[1.0,1.0,1.0]) |\n",
      "|1    |[adore, cheese, #favorite] |(262144,[1689,100089,108624],[1.0,1.0,1.0])|\n",
      "+-----+---------------------------+-------------------------------------------+\n",
      "only showing top 3 rows\n",
      "\n"
     ]
    }
   ],
   "source": [
    "hashTF = HashingTF(inputCol=swr.getOutputCol(), outputCol=\"features\")\n",
    "numericTrain = hashTF.transform(SwRemovedTrain).select(\n",
    "    'label', 'MeaningfulWords', 'features')\n",
    "numericTrain.show(truncate=False, n=3)"
   ]
  },
  {
   "cell_type": "code",
   "execution_count": 11,
   "metadata": {
    "execution": {
     "iopub.execute_input": "2021-01-15T23:50:20.433836Z",
     "iopub.status.busy": "2021-01-15T23:50:20.432888Z",
     "iopub.status.idle": "2021-01-15T23:50:25.577917Z",
     "shell.execute_reply": "2021-01-15T23:50:25.577058Z"
    },
    "papermill": {
     "duration": 5.248334,
     "end_time": "2021-01-15T23:50:25.578093",
     "exception": false,
     "start_time": "2021-01-15T23:50:20.329759",
     "status": "completed"
    },
    "tags": []
   },
   "outputs": [
    {
     "name": "stdout",
     "output_type": "stream",
     "text": [
      "Training Done\n"
     ]
    }
   ],
   "source": [
    "#Training Model\n",
    "lr = LogisticRegression(labelCol=\"label\", featuresCol=\"features\", \n",
    "                        maxIter=10, regParam=0.01)\n",
    "model = lr.fit(numericTrain)\n",
    "print (\"Training Done\")"
   ]
  },
  {
   "cell_type": "code",
   "execution_count": 12,
   "metadata": {
    "execution": {
     "iopub.execute_input": "2021-01-15T23:50:25.807320Z",
     "iopub.status.busy": "2021-01-15T23:50:25.804912Z",
     "iopub.status.idle": "2021-01-15T23:50:26.188186Z",
     "shell.execute_reply": "2021-01-15T23:50:26.187010Z"
    },
    "papermill": {
     "duration": 0.494352,
     "end_time": "2021-01-15T23:50:26.188388",
     "exception": false,
     "start_time": "2021-01-15T23:50:25.694036",
     "status": "completed"
    },
    "tags": []
   },
   "outputs": [
    {
     "name": "stdout",
     "output_type": "stream",
     "text": [
      "+---------------------------------+----------+---------------------------------------+------------------------------------+-------------------------------------------------------+\n",
      "|SentimentText                    |true_label|SentimentWords                         |MeaningfulWords                     |features                                               |\n",
      "+---------------------------------+----------+---------------------------------------+------------------------------------+-------------------------------------------------------+\n",
      "|I adore cheese #toptastic        |1         |[i, adore, cheese, #toptastic]         |[adore, cheese, #toptastic]         |(262144,[1689,42010,100089],[1.0,1.0,1.0])             |\n",
      "|I adore classical music #bestever|1         |[i, adore, classical, music, #bestever]|[adore, classical, music, #bestever]|(262144,[91011,100089,102383,131250],[1.0,1.0,1.0,1.0])|\n",
      "+---------------------------------+----------+---------------------------------------+------------------------------------+-------------------------------------------------------+\n",
      "only showing top 2 rows\n",
      "\n"
     ]
    }
   ],
   "source": [
    "#Prepare Testing data\n",
    "tokenizedTest = tokenizer.transform(test)\n",
    "SwRemovedTest = swr.transform(tokenizedTest)\n",
    "numericTest = hashTF.transform(SwRemovedTest)\n",
    "numericTest.show(truncate=False, n=2)"
   ]
  },
  {
   "cell_type": "code",
   "execution_count": 13,
   "metadata": {
    "execution": {
     "iopub.execute_input": "2021-01-15T23:50:26.394776Z",
     "iopub.status.busy": "2021-01-15T23:50:26.394160Z",
     "iopub.status.idle": "2021-01-15T23:50:26.477093Z",
     "shell.execute_reply": "2021-01-15T23:50:26.476152Z"
    },
    "papermill": {
     "duration": 0.182172,
     "end_time": "2021-01-15T23:50:26.477308",
     "exception": false,
     "start_time": "2021-01-15T23:50:26.295136",
     "status": "completed"
    },
    "tags": []
   },
   "outputs": [
    {
     "name": "stdout",
     "output_type": "stream",
     "text": [
      "root\n",
      " |-- SentimentText: string (nullable = true)\n",
      " |-- true_label: integer (nullable = true)\n",
      " |-- SentimentWords: array (nullable = true)\n",
      " |    |-- element: string (containsNull = true)\n",
      " |-- MeaningfulWords: array (nullable = true)\n",
      " |    |-- element: string (containsNull = true)\n",
      " |-- features: vector (nullable = true)\n",
      " |-- rawPrediction: vector (nullable = true)\n",
      " |-- probability: vector (nullable = true)\n",
      " |-- prediction: double (nullable = false)\n",
      "\n"
     ]
    }
   ],
   "source": [
    "#Prediction\n",
    "raw_prediction = model.transform(numericTest)\n",
    "raw_prediction.printSchema()\n"
   ]
  },
  {
   "cell_type": "code",
   "execution_count": 14,
   "metadata": {
    "execution": {
     "iopub.execute_input": "2021-01-15T23:50:26.693168Z",
     "iopub.status.busy": "2021-01-15T23:50:26.692579Z",
     "iopub.status.idle": "2021-01-15T23:50:26.986810Z",
     "shell.execute_reply": "2021-01-15T23:50:26.985434Z"
    },
    "papermill": {
     "duration": 0.402356,
     "end_time": "2021-01-15T23:50:26.986988",
     "exception": false,
     "start_time": "2021-01-15T23:50:26.584632",
     "status": "completed"
    },
    "tags": []
   },
   "outputs": [
    {
     "name": "stdout",
     "output_type": "stream",
     "text": [
      "+-------------------------------------+----------+----------+\n",
      "|MeaningfulWords                      |prediction|true_label|\n",
      "+-------------------------------------+----------+----------+\n",
      "|[adore, cheese, #toptastic]          |1.0       |1         |\n",
      "|[adore, classical, music, #bestever] |1.0       |1         |\n",
      "|[adore, classical, music, #brilliant]|1.0       |1         |\n",
      "|[adore, classical, music, #toptastic]|1.0       |1         |\n",
      "+-------------------------------------+----------+----------+\n",
      "only showing top 4 rows\n",
      "\n"
     ]
    }
   ],
   "source": [
    "Final_prediction = raw_prediction.select(\"MeaningfulWords\", \"prediction\", \"true_label\")\n",
    "Final_prediction.show(n=4, truncate = False)\n"
   ]
  },
  {
   "cell_type": "code",
   "execution_count": 15,
   "metadata": {
    "execution": {
     "iopub.execute_input": "2021-01-15T23:50:27.340264Z",
     "iopub.status.busy": "2021-01-15T23:50:27.335962Z",
     "iopub.status.idle": "2021-01-15T23:50:27.984365Z",
     "shell.execute_reply": "2021-01-15T23:50:27.983358Z"
    },
    "papermill": {
     "duration": 0.827534,
     "end_time": "2021-01-15T23:50:27.984546",
     "exception": false,
     "start_time": "2021-01-15T23:50:27.157012",
     "status": "completed"
    },
    "tags": []
   },
   "outputs": [
    {
     "name": "stdout",
     "output_type": "stream",
     "text": [
      "Accuracy Score is: 99.14236706689536 %\n"
     ]
    }
   ],
   "source": [
    "Total_True=Final_prediction.filter(Final_prediction['prediction']==Final_prediction['true_label']).count()\n",
    "Alldata=Final_prediction.count()\n",
    "Accuracy=Total_True/Alldata\n",
    "print(\"Accuracy Score is:\", Accuracy*100, '%')"
   ]
  },
  {
   "cell_type": "code",
   "execution_count": null,
   "metadata": {},
   "outputs": [],
   "source": []
  }
 ],
 "metadata": {
  "kernelspec": {
   "display_name": "Python 3 (ipykernel)",
   "language": "python",
   "name": "python3"
  },
  "language_info": {
   "codemirror_mode": {
    "name": "ipython",
    "version": 3
   },
   "file_extension": ".py",
   "mimetype": "text/x-python",
   "name": "python",
   "nbconvert_exporter": "python",
   "pygments_lexer": "ipython3",
   "version": "3.10.9"
  },
  "papermill": {
   "duration": 65.446086,
   "end_time": "2021-01-15T23:50:28.208615",
   "environment_variables": {},
   "exception": null,
   "input_path": "__notebook__.ipynb",
   "output_path": "__notebook__.ipynb",
   "parameters": {},
   "start_time": "2021-01-15T23:49:22.762529",
   "version": "2.1.0"
  }
 },
 "nbformat": 4,
 "nbformat_minor": 4
}
